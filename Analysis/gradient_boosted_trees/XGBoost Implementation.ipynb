{
 "cells": [
  {
   "cell_type": "markdown",
   "metadata": {},
   "source": [
    "# XGBoost Decision Tree Classifier Assignment\n",
    "## By: Patrick Liu 8)"
   ]
  },
  {
   "cell_type": "markdown",
   "metadata": {},
   "source": [
    "# Some Background on The Dataset\n",
    "- This dataset is pertained to mental health as well. In this case, an organization called OSMI (open sourcing mental illness), is a nonprofit organization committed to using technology and open source software to improve the mental health of those in tech-related jobs.\n",
    "    - They conduct a yearly survey that asks people in tech all kinds of qusetions related to their mental health in the context of their tech job that they are working as well as the support that they have received/not received.\n",
    "    - This dataset is the collection of responses to this survery from 2014-2019!\n",
    "\n",
    "# What is Our Goal?\n",
    "- Predict if a person has sought treatment for any mental health issue given their responses to the survey\n"
   ]
  },
  {
   "cell_type": "code",
   "execution_count": 1,
   "metadata": {},
   "outputs": [
    {
     "name": "stderr",
     "output_type": "stream",
     "text": [
      "/Users/patrickliu/opt/anaconda3/lib/python3.7/site-packages/statsmodels/tools/_testing.py:19: FutureWarning: pandas.util.testing is deprecated. Use the functions in the public API at pandas.testing instead.\n",
      "  import pandas.util.testing as tm\n"
     ]
    }
   ],
   "source": [
    "# the usual imports\n",
    "import numpy as np\n",
    "import pandas as pd\n",
    "import seaborn as sns\n",
    "import matplotlib.pyplot as plt"
   ]
  },
  {
   "cell_type": "code",
   "execution_count": 2,
   "metadata": {},
   "outputs": [
    {
     "data": {
      "text/html": [
       "<div>\n",
       "<style scoped>\n",
       "    .dataframe tbody tr th:only-of-type {\n",
       "        vertical-align: middle;\n",
       "    }\n",
       "\n",
       "    .dataframe tbody tr th {\n",
       "        vertical-align: top;\n",
       "    }\n",
       "\n",
       "    .dataframe thead th {\n",
       "        text-align: right;\n",
       "    }\n",
       "</style>\n",
       "<table border=\"1\" class=\"dataframe\">\n",
       "  <thead>\n",
       "    <tr style=\"text-align: right;\">\n",
       "      <th></th>\n",
       "      <th>Family History of Mental Illness</th>\n",
       "      <th>Company Size</th>\n",
       "      <th>year</th>\n",
       "      <th>Age</th>\n",
       "      <th>Age-Group</th>\n",
       "      <th>Gender</th>\n",
       "      <th>Sought Treatment</th>\n",
       "      <th>Describe Past Experience</th>\n",
       "      <th>Prefer Anonymity</th>\n",
       "      <th>Rate Reaction to Problems</th>\n",
       "      <th>Negative Consequences</th>\n",
       "      <th>Location</th>\n",
       "      <th>Access to information</th>\n",
       "      <th>Insurance</th>\n",
       "      <th>Diagnosis</th>\n",
       "      <th>Discuss Mental Health Problems</th>\n",
       "      <th>Responsible Employer</th>\n",
       "      <th>Disorder Notes</th>\n",
       "      <th>Disorder</th>\n",
       "      <th>Primarily a Tech Employer</th>\n",
       "    </tr>\n",
       "  </thead>\n",
       "  <tbody>\n",
       "    <tr>\n",
       "      <th>0</th>\n",
       "      <td>No</td>\n",
       "      <td>6-25</td>\n",
       "      <td>2014</td>\n",
       "      <td>37</td>\n",
       "      <td>31-40</td>\n",
       "      <td>Female</td>\n",
       "      <td>1</td>\n",
       "      <td>NaN</td>\n",
       "      <td>NaN</td>\n",
       "      <td>NaN</td>\n",
       "      <td>No</td>\n",
       "      <td>USA</td>\n",
       "      <td>1</td>\n",
       "      <td>NaN</td>\n",
       "      <td>NaN</td>\n",
       "      <td>Maybe</td>\n",
       "      <td>Yes</td>\n",
       "      <td>NaN</td>\n",
       "      <td>0</td>\n",
       "      <td>1.0</td>\n",
       "    </tr>\n",
       "    <tr>\n",
       "      <th>1</th>\n",
       "      <td>No</td>\n",
       "      <td>More than 1000</td>\n",
       "      <td>2014</td>\n",
       "      <td>44</td>\n",
       "      <td>41-65</td>\n",
       "      <td>Male</td>\n",
       "      <td>0</td>\n",
       "      <td>NaN</td>\n",
       "      <td>NaN</td>\n",
       "      <td>NaN</td>\n",
       "      <td>Maybe</td>\n",
       "      <td>USA</td>\n",
       "      <td>0</td>\n",
       "      <td>NaN</td>\n",
       "      <td>NaN</td>\n",
       "      <td>No</td>\n",
       "      <td>No</td>\n",
       "      <td>NaN</td>\n",
       "      <td>0</td>\n",
       "      <td>0.0</td>\n",
       "    </tr>\n",
       "    <tr>\n",
       "      <th>2</th>\n",
       "      <td>No</td>\n",
       "      <td>6-25</td>\n",
       "      <td>2014</td>\n",
       "      <td>32</td>\n",
       "      <td>31-40</td>\n",
       "      <td>Male</td>\n",
       "      <td>0</td>\n",
       "      <td>NaN</td>\n",
       "      <td>NaN</td>\n",
       "      <td>NaN</td>\n",
       "      <td>No</td>\n",
       "      <td>Canada</td>\n",
       "      <td>0</td>\n",
       "      <td>NaN</td>\n",
       "      <td>NaN</td>\n",
       "      <td>Yes</td>\n",
       "      <td>No</td>\n",
       "      <td>NaN</td>\n",
       "      <td>0</td>\n",
       "      <td>1.0</td>\n",
       "    </tr>\n",
       "    <tr>\n",
       "      <th>3</th>\n",
       "      <td>Yes</td>\n",
       "      <td>26-100</td>\n",
       "      <td>2014</td>\n",
       "      <td>31</td>\n",
       "      <td>31-40</td>\n",
       "      <td>Male</td>\n",
       "      <td>1</td>\n",
       "      <td>NaN</td>\n",
       "      <td>NaN</td>\n",
       "      <td>NaN</td>\n",
       "      <td>Yes</td>\n",
       "      <td>United Kingdom</td>\n",
       "      <td>0</td>\n",
       "      <td>NaN</td>\n",
       "      <td>NaN</td>\n",
       "      <td>Maybe</td>\n",
       "      <td>No</td>\n",
       "      <td>NaN</td>\n",
       "      <td>0</td>\n",
       "      <td>1.0</td>\n",
       "    </tr>\n",
       "    <tr>\n",
       "      <th>4</th>\n",
       "      <td>No</td>\n",
       "      <td>100-500</td>\n",
       "      <td>2014</td>\n",
       "      <td>31</td>\n",
       "      <td>31-40</td>\n",
       "      <td>Male</td>\n",
       "      <td>0</td>\n",
       "      <td>NaN</td>\n",
       "      <td>NaN</td>\n",
       "      <td>NaN</td>\n",
       "      <td>No</td>\n",
       "      <td>USA</td>\n",
       "      <td>0</td>\n",
       "      <td>NaN</td>\n",
       "      <td>NaN</td>\n",
       "      <td>Maybe</td>\n",
       "      <td>No</td>\n",
       "      <td>NaN</td>\n",
       "      <td>0</td>\n",
       "      <td>1.0</td>\n",
       "    </tr>\n",
       "  </tbody>\n",
       "</table>\n",
       "</div>"
      ],
      "text/plain": [
       "  Family History of Mental Illness    Company Size  year  Age Age-Group  \\\n",
       "0                               No            6-25  2014   37     31-40   \n",
       "1                               No  More than 1000  2014   44     41-65   \n",
       "2                               No            6-25  2014   32     31-40   \n",
       "3                              Yes          26-100  2014   31     31-40   \n",
       "4                               No         100-500  2014   31     31-40   \n",
       "\n",
       "   Gender  Sought Treatment Describe Past Experience  Prefer Anonymity  \\\n",
       "0  Female                 1                      NaN               NaN   \n",
       "1    Male                 0                      NaN               NaN   \n",
       "2    Male                 0                      NaN               NaN   \n",
       "3    Male                 1                      NaN               NaN   \n",
       "4    Male                 0                      NaN               NaN   \n",
       "\n",
       "  Rate Reaction to Problems Negative Consequences        Location  \\\n",
       "0                       NaN                    No             USA   \n",
       "1                       NaN                 Maybe             USA   \n",
       "2                       NaN                    No          Canada   \n",
       "3                       NaN                   Yes  United Kingdom   \n",
       "4                       NaN                    No             USA   \n",
       "\n",
       "   Access to information  Insurance Diagnosis Discuss Mental Health Problems  \\\n",
       "0                      1        NaN       NaN                          Maybe   \n",
       "1                      0        NaN       NaN                             No   \n",
       "2                      0        NaN       NaN                            Yes   \n",
       "3                      0        NaN       NaN                          Maybe   \n",
       "4                      0        NaN       NaN                          Maybe   \n",
       "\n",
       "  Responsible Employer Disorder Notes  Disorder  Primarily a Tech Employer  \n",
       "0                  Yes            NaN         0                        1.0  \n",
       "1                   No            NaN         0                        0.0  \n",
       "2                   No            NaN         0                        1.0  \n",
       "3                   No            NaN         0                        1.0  \n",
       "4                   No            NaN         0                        1.0  "
      ]
     },
     "execution_count": 2,
     "metadata": {},
     "output_type": "execute_result"
    }
   ],
   "source": [
    "data = pd.read_csv('./OSMIcleaned.csv')\n",
    "# preview data\n",
    "data.head()"
   ]
  },
  {
   "cell_type": "markdown",
   "metadata": {},
   "source": [
    "As we can see, there are a lot of invalid values (look at the NaNs), so we are going to have to do some preprocessing!"
   ]
  },
  {
   "cell_type": "markdown",
   "metadata": {},
   "source": [
    "# Preprocessing"
   ]
  },
  {
   "cell_type": "code",
   "execution_count": 3,
   "metadata": {},
   "outputs": [],
   "source": [
    "# function to fill in NaN values\n",
    "def bestFill(dataset):\n",
    "    for feature in dataset:\n",
    "        if dataset[feature].dtype == np.int64:\n",
    "             dataset[feature] = pd.to_numeric(dataset[feature], errors='coerce').astype(int)\n",
    "             dataset[feature].fillna(-1, inplace=True)\n",
    " \n",
    "        elif dataset[feature].dtype == np.float64:\n",
    "             dataset[feature].fillna(-1, inplace=True)\n",
    "             dataset[feature] = pd.to_numeric(dataset[feature], errors='coerce').astype(float)\n",
    "\n",
    "        elif dataset[feature].dtype == np.object:\n",
    "             dataset[feature].fillna('NaN', inplace=True)\n",
    "bestFill(data)"
   ]
  },
  {
   "cell_type": "code",
   "execution_count": 4,
   "metadata": {},
   "outputs": [],
   "source": [
    "# features we will use to predict y\n",
    "X = data.drop(['Sought Treatment', 'Describe Past Experience', 'Location', 'Disorder Notes'], axis = 1)\n",
    "# what we will predict\n",
    "y= data['Sought Treatment']"
   ]
  },
  {
   "cell_type": "markdown",
   "metadata": {},
   "source": [
    "## Encoding/Scaling Features\n",
    "- Why do we scale data?\n",
    "    - to normalize data within a certain range\n",
    "    - we will scale our numerical features\n",
    "- Why do we encode data?\n",
    "    - Because numbers are easier to work with 8)\n",
    "    - we will encode our categorical features "
   ]
  },
  {
   "cell_type": "code",
   "execution_count": 5,
   "metadata": {},
   "outputs": [],
   "source": [
    "numerical_features = (X.dtypes == 'float') | (X.dtypes == 'int')\n",
    "categorical_features = ~numerical_features\n",
    "\n",
    "from sklearn.compose import make_column_transformer\n",
    "from sklearn.preprocessing import StandardScaler, OneHotEncoder\n",
    "preprocess = make_column_transformer(\n",
    "    (StandardScaler(), numerical_features),\n",
    "    (OneHotEncoder(), categorical_features), remainder=\"drop\", n_jobs= -1, verbose = True\n",
    ")\n",
    "\n",
    "from sklearn.model_selection import train_test_split\n",
    "X_train, X_test, Y_train, Y_test = train_test_split(X, y, test_size=0.40, random_state=1)"
   ]
  },
  {
   "cell_type": "markdown",
   "metadata": {},
   "source": [
    "# Model Evaluation\n",
    "- If you want to learn what these metrics mean, I would take a look at sklearn.metrics documentation"
   ]
  },
  {
   "cell_type": "code",
   "execution_count": 6,
   "metadata": {},
   "outputs": [],
   "source": [
    "from sklearn import metrics\n",
    "from sklearn.pipeline import make_pipeline\n",
    "\n",
    "def evaluateModel(model, yPredClass, plot=False):\n",
    "    # Classification Accuracy: Overall, how often is the classifier correct?\n",
    "    accuracy = metrics.accuracy_score(Y_test, yPredClass)\n",
    "    print('Classification Accuracy:', accuracy*100)\n",
    "    \n",
    "    # Comparing the true and predicted response values\n",
    "    print('\\nTrue:', Y_test.values[0:25])\n",
    "    print('Pred:', yPredClass[0:25])\n",
    "   \n",
    "    # Metrics computed from a confusion matrix\n",
    "    confusion = metrics.confusion_matrix(Y_test, yPredClass)\n",
    "    TP = confusion[1, 1]   # True Positive\n",
    "    TN = confusion[0, 0]   # True Negative\n",
    "    FP = confusion[0, 1]   # False Positive\n",
    "    FN = confusion[1, 0]   # False Negative\n",
    "    \n",
    "    # False Positive Rate: When the actual value is negative, how often is the prediction incorrect?\n",
    "    false_positive_rate = FP / float(FP+TN)\n",
    "    print('\\nFalse Positive Rate:', false_positive_rate)\n",
    "\n",
    "    # Precision: When a positive value is predicted, how often is the prediction correct?\n",
    "    print('Precision:', metrics.precision_score(Y_test, yPredClass))\n",
    "\n",
    "    # IMPORTANT: first argument is true values, second argument is predicted probabilities\n",
    "    print('AUC Score:', metrics.roc_auc_score(Y_test, yPredClass))\n",
    "    # store the predicted probabilities for class 1\n",
    "    y_pred_prob = model.predict_proba(X_test)[:, 1]\n",
    "\n",
    "    # visualize Confusion Matrix\n",
    "    fig = sns.heatmap(confusion, annot=True, fmt=\"d\")\n",
    "    bottom, top = fig.get_ylim()\n",
    "    fig.set_ylim(bottom + 0.5, top - 0.5)\n",
    "    plt.title('Confusion Matrix')\n",
    "    plt.xlabel('Predicted')\n",
    "    plt.ylabel('Actual')\n",
    "    plt.show()\n",
    "    \n",
    "    # histogram of predicted probabilities\n",
    "    if plot:\n",
    "        plt.rcParams['font.size'] = 12\n",
    "        plt.hist(y_pred_prob, bins=4)\n",
    "        # x-axis limit from 0 to 1\n",
    "        plt.xlim(0, 1)\n",
    "        plt.title('Histogram of predicted probabilities')\n",
    "        plt.xlabel('Predicted probability of treatment')\n",
    "        plt.ylabel('Frequency')\n",
    "\n",
    "    # AUC is the percentage of the ROC plot that is underneath the curve\n",
    "    # Higher value = better classifier\n",
    "    roc_auc = metrics.roc_auc_score(Y_test, y_pred_prob)\n",
    "\n",
    "    # roc_curve returns 3 objects fpr, tpr, thresholds\n",
    "    # fpr: false positive rate\n",
    "    # tpr: true positive rate\n",
    "    fpr, tpr, thresholds = metrics.roc_curve(Y_test, y_pred_prob)\n",
    "    if plot:\n",
    "        plt.figure()\n",
    "        plt.plot(fpr, tpr, label='ROC curve (area = %0.2f)' % roc_auc)\n",
    "        plt.plot([0, 1], [0, 1], linestyle='--')\n",
    "        plt.xlim([0.0, 1.0])\n",
    "        plt.ylim([0.0, 1.0])\n",
    "        plt.rcParams['font.size'] = 12\n",
    "        plt.title('ROC curve for treatment classifier')\n",
    "        plt.xlabel('False Positive Rate (1 - Specificity)')\n",
    "        plt.ylabel('True Positive Rate (Sensitivity)')\n",
    "        plt.legend(loc=\"lower right\")\n",
    "        plt.show()\n",
    "\n",
    "    return accuracy"
   ]
  },
  {
   "cell_type": "markdown",
   "metadata": {},
   "source": [
    "# Using Models!\n",
    "- To give you guys some help, I've trained a model using Logistic Regression. The process for training an XgBoost classifier should be very similar!"
   ]
  },
  {
   "cell_type": "code",
   "execution_count": 7,
   "metadata": {
    "scrolled": false
   },
   "outputs": [
    {
     "name": "stdout",
     "output_type": "stream",
     "text": [
      "############### Logistic Regression ###############\n",
      "Classification Accuracy: 80.86492890995261\n",
      "\n",
      "True: [1 0 0 1 0 0 1 1 1 1 0 0 0 0 1 0 0 1 1 0 1 1 0 0 0]\n",
      "Pred: [1 0 0 1 0 0 1 1 1 0 0 0 0 1 1 0 0 0 1 0 0 1 0 0 0]\n",
      "\n",
      "False Positive Rate: 0.18549511854951187\n",
      "Precision: 0.8544857768052516\n",
      "AUC Score: 0.8094151595717941\n"
     ]
    },
    {
     "data": {
      "image/png": "[encoded data removed]",
      "text/plain": [
       "<Figure size 432x288 with 2 Axes>"
      ]
     },
     "metadata": {
      "needs_background": "light"
     },
     "output_type": "display_data"
    },
    {
     "data": {
      "image/png": "[encoded data removed]",
      "text/plain": [
       "<Figure size 432x288 with 1 Axes>"
      ]
     },
     "metadata": {
      "needs_background": "light"
     },
     "output_type": "display_data"
    },
    {
     "data": {
      "image/png": "[encoded data removed]",
      "text/plain": [
       "<Figure size 432x288 with 1 Axes>"
      ]
     },
     "metadata": {
      "needs_background": "light"
     },
     "output_type": "display_data"
    }
   ],
   "source": [
    "from sklearn.linear_model import LogisticRegression\n",
    "def logisticRegression():\n",
    "    modelLogisticRegression = make_pipeline(preprocess, LogisticRegression(solver='liblinear', multi_class='ovr'))\n",
    "    modelLogisticRegression.fit(X_train, Y_train)\n",
    "\n",
    "    # make class predictions for the testing set\n",
    "    y_pred_class = modelLogisticRegression.predict(X_test)\n",
    "\n",
    "    print('############### Logistic Regression ###############')\n",
    "\n",
    "    accuracy_score = evaluateModel(modelLogisticRegression, y_pred_class, True)\n",
    "    \n",
    "logisticRegression()"
   ]
  },
  {
   "cell_type": "markdown",
   "metadata": {},
   "source": [
    "## Now it's your turn to implement your own XGBoost Classifier!\n",
    "Some notes:\n",
    "- Run `pip install xgboost` to get the xgboost package\n",
    "- Once you are done training, try evaluating the accuracy of your model using the `evaluateModel` function above and with the test dataset. This model should be more accurate than the Logistic Regression classifier.\n",
    "- try playing around with tuning the parameters to get the highest accuracy possible!\n",
    "    - in particular, try tuning the `eta` and `max_depth` parameters!"
   ]
  },
  {
   "cell_type": "code",
   "execution_count": 8,
   "metadata": {},
   "outputs": [],
   "source": [
    "import xgboost\n",
    "\n",
    "############################ TODO ############################\n",
    "# def xgBoost():"
   ]
  }
 ],
 "metadata": {
  "kernelspec": {
   "display_name": "Python 3",
   "language": "python",
   "name": "python3"
  },
  "language_info": {
   "codemirror_mode": {
    "name": "ipython",
    "version": 3
   },
   "file_extension": ".py",
   "mimetype": "text/x-python",
   "name": "python",
   "nbconvert_exporter": "python",
   "pygments_lexer": "ipython3",
   "version": "3.6.8"
  }
 },
 "nbformat": 4,
 "nbformat_minor": 2
}
